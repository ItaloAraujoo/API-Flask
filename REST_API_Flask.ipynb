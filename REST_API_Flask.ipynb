{
 "cells": [
  {
   "cell_type": "code",
   "execution_count": null,
   "id": "7d5066f3",
   "metadata": {},
   "outputs": [],
   "source": [
    "#import requests\n",
    "#cotacao = requests.get('https://api.italo1997.repl.co/vendas/produtos/Sapato')\n",
    "#cotacao_dic = cotacao.json()\n",
    "#print(cotacao_dic)"
   ]
  },
  {
   "cell_type": "code",
   "execution_count": null,
   "id": "efb413ec",
   "metadata": {},
   "outputs": [],
   "source": [
    "from flask import Flask\n",
    "\n",
    "app = Flask(__name__)\n",
    "tabela = pd.read_excel('Vendas - Dez.xlsx')\n",
    "\n",
    "@app.route(\"/\")\n",
    "def fat():\n",
    "  faturamento = float(tabela['Valor Final'].sum())\n",
    "  return {\"Faturamento\": faturamento}\n",
    "\n",
    "@app.route(\"/vendas/produtos\")\n",
    "def vendas_produtos():\n",
    "  tabela_vendas_produtos = tabela[[\"Produto\", \"Valor Final\"]].groupby(\"Produto\").sum()\n",
    "  dic_vendas_produtos = tabela_vendas_produtos.to_dict()\n",
    "  return dic_vendas_produtos\n",
    "\n",
    "@app.route(\"/vendas/produtos/<produto>\")\n",
    "def fat_produto_especifico(produto):\n",
    "  tabela_vendas_produtos = tabela[[\"Produto\", \"Valor Final\"]].groupby(\"Produto\").sum()\n",
    "  if produto in tabela_vendas_produtos.index:\n",
    "    vendas_produto = tabela_vendas_produtos.loc[produto]\n",
    "    dic_vendas_produtos = vendas_produto.to_dict()\n",
    "    return dic_vendas_produtos\n",
    "  else:\n",
    "    return {produto: \"Inexistente\"} \n",
    "\n",
    "app.run()"
   ]
  }
 ],
 "metadata": {
  "kernelspec": {
   "display_name": "Python 3 (ipykernel)",
   "language": "python",
   "name": "python3"
  },
  "language_info": {
   "codemirror_mode": {
    "name": "ipython",
    "version": 3
   },
   "file_extension": ".py",
   "mimetype": "text/x-python",
   "name": "python",
   "nbconvert_exporter": "python",
   "pygments_lexer": "ipython3",
   "version": "3.9.13"
  }
 },
 "nbformat": 4,
 "nbformat_minor": 5
}
